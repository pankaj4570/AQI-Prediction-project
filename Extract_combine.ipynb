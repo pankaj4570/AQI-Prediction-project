{
 "cells": [
  {
   "cell_type": "code",
   "execution_count": 42,
   "metadata": {
    "collapsed": true
   },
   "outputs": [],
   "source": [
    "# ! pip install import-ipynb"
   ]
  },
  {
   "cell_type": "code",
   "execution_count": 1,
   "metadata": {},
   "outputs": [],
   "source": [
    "# To import any Ipynb file we need to import first import_ipynb\n",
    "import import_ipynb"
   ]
  },
  {
   "cell_type": "code",
   "execution_count": 2,
   "metadata": {},
   "outputs": [
    {
     "name": "stdout",
     "output_type": "stream",
     "text": [
      "importing Jupyter notebook from PlotAQI.ipynb\n"
     ]
    }
   ],
   "source": [
    "# Now Import the module that we want to import\n",
    "from PlotAQI import avg_data2013, avg_data2014, avg_data2015, avg_data2016, avg_data2017, avg_data2018"
   ]
  },
  {
   "cell_type": "markdown",
   "metadata": {},
   "source": [
    "# WEB SCRAPPING"
   ]
  },
  {
   "cell_type": "code",
   "execution_count": 67,
   "metadata": {},
   "outputs": [],
   "source": [
    "import requests\n",
    "import sys\n",
    "import pandas as pd\n",
    "import numpy as np\n",
    "from bs4 import BeautifulSoup\n",
    "import csv"
   ]
  },
  {
   "cell_type": "code",
   "execution_count": 97,
   "metadata": {},
   "outputs": [
    {
     "data": {
      "application/javascript": [
       "\n",
       "        if (window._pyforest_update_imports_cell) { window._pyforest_update_imports_cell('from sklearn.ensemble import GradientBoostingClassifier\\nimport pickle\\nfrom pathlib import Path\\nfrom sklearn.preprocessing import OneHotEncoder\\nfrom sklearn.ensemble import RandomForestRegressor\\nfrom sklearn.ensemble import GradientBoostingRegressor\\nimport os\\nfrom sklearn.ensemble import RandomForestClassifier'); }\n",
       "    "
      ],
      "text/plain": [
       "<IPython.core.display.Javascript object>"
      ]
     },
     "metadata": {},
     "output_type": "display_data"
    }
   ],
   "source": [
    "def meta_data(year, month):\n",
    "    with open('/Users/PawanKumar/ML Notes/AQI Project/Data/html_data/{}/{}.html'.format(year, month), 'rb') as file_html:\n",
    "        plain_text=file_html.read()\n",
    "    tempD=[]\n",
    "    FinalD=[]\n",
    "    soup = BeautifulSoup(plain_text, 'lxml')\n",
    "    for table in soup.findAll('table', {'class':'medias mensuales numspan'}):\n",
    "        for tbody in table:\n",
    "            for tr in tbody:\n",
    "                a = tr.get_text()\n",
    "                tempD.append(a)\n",
    "    rows= len(tempD)/15\n",
    "    \n",
    "    for times in range(round(rows)):\n",
    "        new_tempD=[]\n",
    "        for i in range(15):\n",
    "            new_tempD.append(tempD[0])\n",
    "            tempD.pop(0)\n",
    "        FinalD.append(new_tempD)\n",
    "    Length = len(FinalD)\n",
    "    FinalD.pop(Length-1)\n",
    "    FinalD.pop(0)\n",
    "    for a in range(len(FinalD)):\n",
    "        FinalD[a].pop(14)\n",
    "        FinalD[a].pop(13)\n",
    "        FinalD[a].pop(12)\n",
    "        FinalD[a].pop(11)\n",
    "        FinalD[a].pop(10)\n",
    "        FinalD[a].pop(6)\n",
    "        FinalD[a].pop(4)\n",
    "        FinalD[a].pop(0)\n",
    "    return FinalD\n",
    "def combine_csv(year, cs):\n",
    "    for chunk in pd.read_csv('/Users/PawanKumar/ML Notes/AQI Project/Data/Real-Data/Real_{}.csv'.format(year), chunksize=cs):\n",
    "        df = pd.DataFrame(chunk)\n",
    "        mylist= df.values.tolist()\n",
    "    return mylist\n",
    "\n",
    "if __name__=='__main__': \n",
    "    if not os.path.exists('/Users/PawanKumar/ML Notes/AQI Project/Data/Real-Data'):\n",
    "        os.makedirs('/Users/PawanKumar/ML Notes/AQI Project/Data/Real-Data')\n",
    "    for year in range(2013, 2017):\n",
    "        final_data=[]\n",
    "        with open('/Users/PawanKumar/ML Notes/AQI Project/Data/Real-Data/Real_'+str(year)+'.csv','w') as csvfile:\n",
    "            wr = csv.writer(csvfile, dialect='excel')\n",
    "            wr.writerow(['T', 'TM', 'Tm', 'H', 'VV', 'V', 'VM', 'PM2.5'])\n",
    "        for month in range(1,13):\n",
    "            temp = meta_data(year,month)\n",
    "            final_data+=temp\n",
    "        pm = getattr(sys.modules[__name__], 'avg_data{}'.format(year))()\n",
    "        if len(pm)==364:\n",
    "            pm.insert(364, '--')\n",
    "        for values in range(len(final_data)-1):\n",
    "            final_data[values].insert(8, pm[values])\n",
    "        with open('/Users/PawanKumar/ML Notes/AQI Project/Data/Real-Data/Real_'+str(year)+'.csv', 'a') as csvfile:\n",
    "            wr = csv.writer(csvfile, dialect='excel')\n",
    "            \n",
    "            for row in final_data:\n",
    "                flag = 0\n",
    "                for element in row:  \n",
    "                    if element =='' or element=='-':\n",
    "                        flag=1\n",
    "                if flag!=1:\n",
    "                    wr.writerow(row)     \n",
    "    combine2013=combine_csv(2013, 600)\n",
    "    combine2014=combine_csv(2014, 600)\n",
    "    combine2015=combine_csv(2015, 600)\n",
    "    combine2016=combine_csv(2016, 600)\n",
    "    final_data_list = combine2013+combine2014+combine2015+combine2016\n",
    "    with open('/Users/PawanKumar/ML Notes/AQI Project/Data/Real-Data/final_data_list.csv','w') as csvfile:\n",
    "            wr = csv.writer(csvfile, dialect='excel')\n",
    "            wr.writerow(['T', 'TM', 'Tm', 'H', 'VV', 'V', 'VM', 'PM2.5'])\n",
    "            wr.writerows(final_data_list)\n",
    "    "
   ]
  }
 ],
 "metadata": {
  "kernelspec": {
   "display_name": "Python 3",
   "language": "python",
   "name": "python3"
  },
  "language_info": {
   "codemirror_mode": {
    "name": "ipython",
    "version": 3
   },
   "file_extension": ".py",
   "mimetype": "text/x-python",
   "name": "python",
   "nbconvert_exporter": "python",
   "pygments_lexer": "ipython3",
   "version": "3.7.4"
  }
 },
 "nbformat": 4,
 "nbformat_minor": 2
}
