{
 "cells": [
  {
   "cell_type": "code",
   "execution_count": 36,
   "metadata": {},
   "outputs": [],
   "source": [
    "import os\n",
    "import time\n",
    "import requests\n",
    "import sys"
   ]
  },
  {
   "cell_type": "code",
   "execution_count": 59,
   "metadata": {},
   "outputs": [
    {
     "name": "stdout",
     "output_type": "stream",
     "text": [
      "Time taken: 1.227558187643687 minutes\n"
     ]
    }
   ],
   "source": [
    "# Retrieving the html page from the website month by month and year by year\n",
    "\n",
    "def retrieve_html():\n",
    "    for year in range(2013,2020):\n",
    "        for month in range(1,13):\n",
    "            if (month<10):\n",
    "                url='https://en.tutiempo.net/climate/0{}-{}/ws-421810.html'.format(month, year)\n",
    "            else:\n",
    "                url='https://en.tutiempo.net/climate/{}-{}/ws-421810.html'.format(month, year)\n",
    "            texts= requests.get(url)\n",
    "            text_utf = texts.text.encode('utf=8')\n",
    "            if not os.path.exists('/Users/PawanKumar/ML Notes/Data/html_data/{}'.format(year)):\n",
    "                os.makedirs('/Users/PawanKumar/ML Notes/Data/html_data/{}'.format(year))\n",
    "            with open('/Users/PawanKumar/ML Notes/Data/html_data/{}/{}.html'.format(year, month), 'wb') as output:\n",
    "                         output.write(text_utf)\n",
    "        sys.stdout.flush()\n",
    "        \n",
    "if __name__=='__main__':\n",
    "    start_time = time.time()\n",
    "    retrieve_html()\n",
    "    end_time = time.time()\n",
    "    print('Time taken: {} minutes'.format((end_time-start_time)/60))"
   ]
  },
  {
   "cell_type": "code",
   "execution_count": null,
   "metadata": {},
   "outputs": [],
   "source": []
  },
  {
   "cell_type": "code",
   "execution_count": null,
   "metadata": {},
   "outputs": [],
   "source": []
  },
  {
   "cell_type": "code",
   "execution_count": null,
   "metadata": {},
   "outputs": [],
   "source": []
  }
 ],
 "metadata": {
  "kernelspec": {
   "display_name": "Python 3",
   "language": "python",
   "name": "python3"
  },
  "language_info": {
   "codemirror_mode": {
    "name": "ipython",
    "version": 3
   },
   "file_extension": ".py",
   "mimetype": "text/x-python",
   "name": "python",
   "nbconvert_exporter": "python",
   "pygments_lexer": "ipython3",
   "version": "3.7.4"
  }
 },
 "nbformat": 4,
 "nbformat_minor": 2
}
